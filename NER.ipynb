{
 "cells": [
  {
   "cell_type": "code",
   "execution_count": 1,
   "id": "b62525f6",
   "metadata": {},
   "outputs": [],
   "source": [
    "import spacy"
   ]
  },
  {
   "cell_type": "code",
   "execution_count": 2,
   "id": "6c3136ce",
   "metadata": {},
   "outputs": [],
   "source": [
    "nlp = spacy.load(\"en_core_web_sm\")"
   ]
  },
  {
   "cell_type": "code",
   "execution_count": 3,
   "id": "44889d26",
   "metadata": {},
   "outputs": [
    {
     "data": {
      "text/plain": [
       "['tok2vec', 'tagger', 'parser', 'attribute_ruler', 'lemmatizer', 'ner']"
      ]
     },
     "execution_count": 3,
     "metadata": {},
     "output_type": "execute_result"
    }
   ],
   "source": [
    "nlp.pipe_names"
   ]
  },
  {
   "cell_type": "code",
   "execution_count": 13,
   "id": "97942ed9",
   "metadata": {},
   "outputs": [],
   "source": [
    "doc = nlp(\"google is best MNC company I've worked with. Twitter Inc is bought by Elon Musk\")"
   ]
  },
  {
   "cell_type": "code",
   "execution_count": 14,
   "id": "d6aab81f",
   "metadata": {},
   "outputs": [
    {
     "name": "stdout",
     "output_type": "stream",
     "text": [
      "google | ORG | Companies, agencies, institutions, etc.\n",
      "MNC | ORG | Companies, agencies, institutions, etc.\n",
      "Twitter Inc | ORG | Companies, agencies, institutions, etc.\n",
      "Elon Musk | PERSON | People, including fictional\n"
     ]
    }
   ],
   "source": [
    "for ent in doc.ents:\n",
    "    print(ent,\"|\",ent.label_,\"|\",spacy.explain(ent.label_))"
   ]
  },
  {
   "cell_type": "code",
   "execution_count": 18,
   "id": "a891f650",
   "metadata": {},
   "outputs": [],
   "source": [
    "t = nlp(\"Twitter Inc\")"
   ]
  },
  {
   "cell_type": "code",
   "execution_count": 19,
   "id": "1171b34c",
   "metadata": {},
   "outputs": [
    {
     "name": "stdout",
     "output_type": "stream",
     "text": [
      "(Twitter Inc,)\n"
     ]
    }
   ],
   "source": [
    "print(t.ents)"
   ]
  },
  {
   "cell_type": "code",
   "execution_count": 23,
   "id": "1f00fb36",
   "metadata": {},
   "outputs": [
    {
     "data": {
      "text/plain": [
       "['CARDINAL',\n",
       " 'DATE',\n",
       " 'EVENT',\n",
       " 'FAC',\n",
       " 'GPE',\n",
       " 'LANGUAGE',\n",
       " 'LAW',\n",
       " 'LOC',\n",
       " 'MONEY',\n",
       " 'NORP',\n",
       " 'ORDINAL',\n",
       " 'ORG',\n",
       " 'PERCENT',\n",
       " 'PERSON',\n",
       " 'PRODUCT',\n",
       " 'QUANTITY',\n",
       " 'TIME',\n",
       " 'WORK_OF_ART']"
      ]
     },
     "execution_count": 23,
     "metadata": {},
     "output_type": "execute_result"
    }
   ],
   "source": [
    "nlp.pipe_labels[\"ner\"]"
   ]
  },
  {
   "cell_type": "code",
   "execution_count": 24,
   "id": "11fd964b",
   "metadata": {},
   "outputs": [
    {
     "name": "stdout",
     "output_type": "stream",
     "text": [
      "Tesla | ORG | Companies, agencies, institutions, etc.\n",
      "$45 billion | MONEY | Monetary values, including unit\n"
     ]
    }
   ],
   "source": [
    "doc = nlp(\"Tesla is going to acquire twitter for $45 billion\")\n",
    "for ent in doc.ents:\n",
    "    print(ent,\"|\",ent.label_,\"|\",spacy.explain(ent.label_))"
   ]
  },
  {
   "cell_type": "code",
   "execution_count": 25,
   "id": "b2cdc816",
   "metadata": {},
   "outputs": [],
   "source": [
    "#now we are goin to customize twitter as an organisation\n"
   ]
  },
  {
   "cell_type": "code",
   "execution_count": 26,
   "id": "084d53bf",
   "metadata": {},
   "outputs": [
    {
     "data": {
      "text/plain": [
       "going to acquire"
      ]
     },
     "execution_count": 26,
     "metadata": {},
     "output_type": "execute_result"
    }
   ],
   "source": [
    "doc[2:5]"
   ]
  },
  {
   "cell_type": "code",
   "execution_count": 28,
   "id": "c52efc94",
   "metadata": {},
   "outputs": [
    {
     "data": {
      "text/plain": [
       "spacy.tokens.span.Span"
      ]
     },
     "execution_count": 28,
     "metadata": {},
     "output_type": "execute_result"
    }
   ],
   "source": [
    "type(doc[2:5])#these are called span and by using it we are going to customize it"
   ]
  },
  {
   "cell_type": "code",
   "execution_count": 32,
   "id": "357bad36",
   "metadata": {},
   "outputs": [],
   "source": [
    "from spacy.tokens import Span"
   ]
  },
  {
   "cell_type": "code",
   "execution_count": 37,
   "id": "c4f4c421",
   "metadata": {},
   "outputs": [],
   "source": [
    "s1 = Span(doc,5,6,label=\"ORG\")#this is called docs entities\n",
    "doc.set_ents([s1],default=\"unmodified\")#default attribute keeps other default entities as same"
   ]
  },
  {
   "cell_type": "code",
   "execution_count": 38,
   "id": "79f3cf48",
   "metadata": {},
   "outputs": [
    {
     "name": "stdout",
     "output_type": "stream",
     "text": [
      "Tesla | ORG | Companies, agencies, institutions, etc.\n",
      "twitter | ORG | Companies, agencies, institutions, etc.\n",
      "$45 billion | MONEY | Monetary values, including unit\n"
     ]
    }
   ],
   "source": [
    "for ent in doc.ents:\n",
    "    print(ent,\"|\",ent.label_,\"|\",spacy.explain(ent.label_))"
   ]
  },
  {
   "cell_type": "code",
   "execution_count": null,
   "id": "48307c43",
   "metadata": {},
   "outputs": [],
   "source": []
  },
  {
   "cell_type": "code",
   "execution_count": null,
   "id": "e7a45445",
   "metadata": {},
   "outputs": [],
   "source": []
  }
 ],
 "metadata": {
  "kernelspec": {
   "display_name": "Python 3 (ipykernel)",
   "language": "python",
   "name": "python3"
  },
  "language_info": {
   "codemirror_mode": {
    "name": "ipython",
    "version": 3
   },
   "file_extension": ".py",
   "mimetype": "text/x-python",
   "name": "python",
   "nbconvert_exporter": "python",
   "pygments_lexer": "ipython3",
   "version": "3.11.1"
  }
 },
 "nbformat": 4,
 "nbformat_minor": 5
}
