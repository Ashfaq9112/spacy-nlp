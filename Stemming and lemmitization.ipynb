{
 "cells": [
  {
   "cell_type": "code",
   "execution_count": 1,
   "id": "6d32d42f",
   "metadata": {},
   "outputs": [],
   "source": [
    "import nltk\n",
    "import spacy"
   ]
  },
  {
   "cell_type": "code",
   "execution_count": 2,
   "id": "10187ea0",
   "metadata": {},
   "outputs": [],
   "source": [
    "from nltk.stem import PorterStemmer"
   ]
  },
  {
   "cell_type": "code",
   "execution_count": 10,
   "id": "f1176cc6",
   "metadata": {},
   "outputs": [],
   "source": [
    "words = [\"eats\",\"running\",\"jogging\",\"ability\",\"adjustable\",\"capable\",\"meeting\"]\n",
    "stemer = PorterStemmer()"
   ]
  },
  {
   "cell_type": "code",
   "execution_count": 12,
   "id": "1016c708",
   "metadata": {},
   "outputs": [
    {
     "name": "stdout",
     "output_type": "stream",
     "text": [
      "eats | eat\n",
      "running | run\n",
      "jogging | jog\n",
      "ability | abil\n",
      "adjustable | adjust\n",
      "capable | capabl\n",
      "meeting | meet\n"
     ]
    }
   ],
   "source": [
    "for word in words:\n",
    "    print(word ,\"|\", stemer.stem(word))"
   ]
  },
  {
   "cell_type": "code",
   "execution_count": 14,
   "id": "9e2b31d7",
   "metadata": {},
   "outputs": [],
   "source": [
    "nlp = spacy.load(\"en_core_web_sm\")"
   ]
  },
  {
   "cell_type": "code",
   "execution_count": 17,
   "id": "27defcf3",
   "metadata": {},
   "outputs": [],
   "source": [
    "doc = nlp(\"eating eats eat ate ability rafting ability meeting better\")"
   ]
  },
  {
   "cell_type": "code",
   "execution_count": 18,
   "id": "70a52169",
   "metadata": {},
   "outputs": [
    {
     "name": "stdout",
     "output_type": "stream",
     "text": [
      "eating | eat\n",
      "eats | eat\n",
      "eat | eat\n",
      "ate | ate\n",
      "ability | ability\n",
      "rafting | raft\n",
      "ability | ability\n",
      "meeting | meeting\n",
      "better | well\n"
     ]
    }
   ],
   "source": [
    "for w in doc:\n",
    "    print(w,\"|\", w.lemma_)"
   ]
  },
  {
   "cell_type": "code",
   "execution_count": 19,
   "id": "555b6d42",
   "metadata": {},
   "outputs": [
    {
     "data": {
      "text/plain": [
       "['tok2vec', 'tagger', 'parser', 'attribute_ruler', 'lemmatizer', 'ner']"
      ]
     },
     "execution_count": 19,
     "metadata": {},
     "output_type": "execute_result"
    }
   ],
   "source": [
    "nlp.pipe_names"
   ]
  },
  {
   "cell_type": "code",
   "execution_count": 29,
   "id": "cf09b4a4",
   "metadata": {},
   "outputs": [],
   "source": [
    "doc = nlp(\"Bro you wanna hangout with me? Brah don't say no because I'm exhausted\")"
   ]
  },
  {
   "cell_type": "code",
   "execution_count": 30,
   "id": "2325ff9e",
   "metadata": {},
   "outputs": [],
   "source": [
    "#now we are going to change lemma attributes"
   ]
  },
  {
   "cell_type": "code",
   "execution_count": 31,
   "id": "41efdb3e",
   "metadata": {},
   "outputs": [
    {
     "name": "stdout",
     "output_type": "stream",
     "text": [
      "Bro | Brother\n",
      "you | you\n",
      "wanna | wanna\n",
      "hangout | hangout\n",
      "with | with\n",
      "me | I\n",
      "? | ?\n",
      "Brah | Brother\n",
      "do | do\n",
      "n't | not\n",
      "say | say\n",
      "no | no\n",
      "because | because\n",
      "I | I\n",
      "'m | be\n",
      "exhausted | exhaust\n"
     ]
    }
   ],
   "source": [
    "for w in doc:\n",
    "    print(w,\"|\", w.lemma_)"
   ]
  },
  {
   "cell_type": "code",
   "execution_count": 23,
   "id": "5ef7c562",
   "metadata": {},
   "outputs": [],
   "source": [
    "#as you can see bro and brahh means brother but the lemma is not actual, now we are going to change it"
   ]
  },
  {
   "cell_type": "code",
   "execution_count": 24,
   "id": "f658f9a8",
   "metadata": {},
   "outputs": [],
   "source": [
    "ar = nlp.get_pipe('attribute_ruler')"
   ]
  },
  {
   "cell_type": "code",
   "execution_count": 32,
   "id": "8adcdddb",
   "metadata": {},
   "outputs": [],
   "source": [
    "ar.add([[{\"TEXT\":\"Bro\"}],[{\"TEXT\":\"Brah\"}]],{\"LEMMA\":\"Brother\"})"
   ]
  },
  {
   "cell_type": "code",
   "execution_count": 33,
   "id": "1534f99d",
   "metadata": {},
   "outputs": [
    {
     "name": "stdout",
     "output_type": "stream",
     "text": [
      "Bro | Brother\n",
      "you | you\n",
      "wanna | wanna\n",
      "hangout | hangout\n",
      "with | with\n",
      "me | I\n",
      "? | ?\n",
      "Brah | Brother\n",
      "do | do\n",
      "n't | not\n",
      "say | say\n",
      "no | no\n",
      "because | because\n",
      "I | I\n",
      "'m | be\n",
      "exhausted | exhaust\n"
     ]
    }
   ],
   "source": [
    "for w in doc:\n",
    "    print(w,\"|\", w.lemma_)"
   ]
  },
  {
   "cell_type": "code",
   "execution_count": null,
   "id": "25304639",
   "metadata": {},
   "outputs": [],
   "source": []
  }
 ],
 "metadata": {
  "kernelspec": {
   "display_name": "Python 3 (ipykernel)",
   "language": "python",
   "name": "python3"
  },
  "language_info": {
   "codemirror_mode": {
    "name": "ipython",
    "version": 3
   },
   "file_extension": ".py",
   "mimetype": "text/x-python",
   "name": "python",
   "nbconvert_exporter": "python",
   "pygments_lexer": "ipython3",
   "version": "3.11.1"
  }
 },
 "nbformat": 4,
 "nbformat_minor": 5
}
